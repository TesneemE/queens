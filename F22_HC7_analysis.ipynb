{
  "nbformat": 4,
  "nbformat_minor": 0,
  "metadata": {
    "colab": {
      "private_outputs": true,
      "provenance": [],
      "include_colab_link": true
    },
    "kernelspec": {
      "display_name": "Python 3",
      "language": "python",
      "name": "python3"
    },
    "language_info": {
      "codemirror_mode": {
        "name": "ipython",
        "version": 3
      },
      "file_extension": ".py",
      "mimetype": "text/x-python",
      "name": "python",
      "nbconvert_exporter": "python",
      "pygments_lexer": "ipython3",
      "version": "3.8.5"
    }
  },
  "cells": [
    {
      "cell_type": "markdown",
      "metadata": {
        "id": "view-in-github",
        "colab_type": "text"
      },
      "source": [
        "<a href=\"https://colab.research.google.com/github/nbaulib/queens/blob/main/F22_HC7_analysis.ipynb\" target=\"_parent\"><img src=\"https://colab.research.google.com/assets/colab-badge.svg\" alt=\"Open In Colab\"/></a>"
      ]
    },
    {
      "cell_type": "markdown",
      "metadata": {
        "id": "Q5ysDChCGCGR"
      },
      "source": [
        "# HC7 & HC8 Data Exploration"
      ]
    },
    {
      "cell_type": "markdown",
      "metadata": {
        "id": "XuB6AWBjGCGS"
      },
      "source": [
        "Below you will find a first exploration of the `Affordable_Housing_Production_by_Building.csv` dataset. The goal is for you to learn the tools for data exploration (many of these you learned in our online labs) and then be able to further explore the data and obtain results to report in our final presentation.  \n",
        "\n",
        "As you know, we must first import the packages we will use:"
      ]
    },
    {
      "cell_type": "code",
      "metadata": {
        "id": "K5_ZJpL1GCGU"
      },
      "source": [
        "import pandas as pd\n",
        "import matplotlib.pyplot as plt"
      ],
      "execution_count": null,
      "outputs": []
    },
    {
      "cell_type": "markdown",
      "metadata": {
        "id": "BSHuK5DQGCGU"
      },
      "source": [
        "## EXPLORE THE DATA\n",
        "\n",
        "To begin, we will read the data into a pandas dataframe and find out its shape (dimensions)"
      ]
    },
    {
      "cell_type": "code",
      "metadata": {
        "id": "g-Zwdc23mqHf"
      },
      "source": [
        "# download the file from our drive\n",
        "!gdown https://drive.google.com/uc?id=1d1P7EhTQyYd6woSsQ-EPpu0BNJCXyDvn\n",
        "#list the files in the current directory to confirm the file is there\n",
        "!ls\n"
      ],
      "execution_count": null,
      "outputs": []
    },
    {
      "cell_type": "code",
      "metadata": {
        "id": "0u6P30cLGCGV"
      },
      "source": [
        "# read Affordable_Housing_Production_by_Building.csv into a dataframe\n",
        "affordable = pd.read_csv(\"Affordable_Housing_Production_by_Building.csv\")\n",
        "\n",
        "print(\"The dimension of the table is: \", affordable.shape)"
      ],
      "execution_count": null,
      "outputs": []
    },
    {
      "cell_type": "markdown",
      "metadata": {
        "id": "imrbPVd6GCGV"
      },
      "source": [
        "Alternatively, to find out how many observations (rows) in the dataset:"
      ]
    },
    {
      "cell_type": "code",
      "metadata": {
        "id": "n97K3KPcGCGW"
      },
      "source": [
        "print(\"Number of rows: \", len(affordable))"
      ],
      "execution_count": null,
      "outputs": []
    },
    {
      "cell_type": "markdown",
      "metadata": {
        "id": "ugQnNPEFGCGW"
      },
      "source": [
        "To find out the names of the columns, we can print the header of the dataframe (with zero rows)"
      ]
    },
    {
      "cell_type": "code",
      "metadata": {
        "id": "SfQsIBbbGCGW"
      },
      "source": [
        "print(\"Column Names:\\n\",affordable.head(0))"
      ],
      "execution_count": null,
      "outputs": []
    },
    {
      "cell_type": "markdown",
      "metadata": {
        "id": "z2n6KmDPGCGX"
      },
      "source": [
        "Alternatively, to see sample data, we can print the header of the dataframe with the first two rows:"
      ]
    },
    {
      "cell_type": "code",
      "metadata": {
        "id": "LL_Sqyu_GCGX",
        "scrolled": true
      },
      "source": [
        "print(\"Column Names:\\n\",affordable.head(2))"
      ],
      "execution_count": null,
      "outputs": []
    },
    {
      "cell_type": "markdown",
      "metadata": {
        "id": "udj3wT_TqMDs"
      },
      "source": [
        "Oh no! There are too many columns to print, 41 of them! (thats why there is the `...` in between.)  \n",
        "Let's look at what type of data is stored in each column:"
      ]
    },
    {
      "cell_type": "code",
      "metadata": {
        "id": "q0RNQ1KeqLmI"
      },
      "source": [
        "affordable.info()"
      ],
      "execution_count": null,
      "outputs": []
    },
    {
      "cell_type": "markdown",
      "metadata": {
        "id": "SZSwhPPgQv-M"
      },
      "source": [
        "You can access speicfic columns using exact the same name included in quotes and get the head of the dataframe with the selected columns (as shown below)"
      ]
    },
    {
      "cell_type": "code",
      "metadata": {
        "id": "8OuSDqlLRSFe"
      },
      "source": [
        "print(\"Project Name:\\n\",affordable['Project Name'].head(5))"
      ],
      "execution_count": null,
      "outputs": []
    },
    {
      "cell_type": "markdown",
      "metadata": {
        "id": "zqcRN7CdGCGY"
      },
      "source": [
        "We can use `describe()` to get some stats for the numerical data, shown as follows. Some of the output make sense, for example, calculate the average, maximum, or minimum number of 2-BR Units, but some of the output will not be used, for example, the mean of Postcode."
      ]
    },
    {
      "cell_type": "code",
      "metadata": {
        "id": "hsgyg6VjGCGY"
      },
      "source": [
        "affordable.describe()"
      ],
      "execution_count": null,
      "outputs": []
    },
    {
      "cell_type": "markdown",
      "metadata": {
        "id": "iVHLmqEIGCGZ"
      },
      "source": [
        "The function `describe()` gives the number of values (`count`), average, standard deviation, minimum and maximum values as well as the 25th, 50th and 75th percentiles, **for each numerical column**.\n",
        "Alternatively, to retrieve and print the stats **for a particular column**:"
      ]
    },
    {
      "cell_type": "code",
      "metadata": {
        "id": "0Sm_6DgGGCGa"
      },
      "source": [
        "num_stats = affordable.describe()\n",
        "print(\"Statistics for '2-BR Units' column:\\n\",num_stats['2-BR Units'])"
      ],
      "execution_count": null,
      "outputs": []
    },
    {
      "cell_type": "markdown",
      "metadata": {
        "id": "05pP-YZfGCGa"
      },
      "source": [
        "The `describe()` function, as called above, provides statistics for numerical data. To get some information for the categorical data:"
      ]
    },
    {
      "cell_type": "code",
      "metadata": {
        "id": "380EC47IGCGb"
      },
      "source": [
        "affordable.describe( include=['O'])"
      ],
      "execution_count": null,
      "outputs": []
    },
    {
      "cell_type": "markdown",
      "metadata": {
        "id": "rd0ZM9JmGCGb"
      },
      "source": [
        "The `describe()` function with `include=['O']` argument (that is a capital letter O), will provide the number of values (`count`), the number of unique values, the most frequent value (`top`) and the frequency of that value, **for each categorical column**."
      ]
    },
    {
      "cell_type": "markdown",
      "metadata": {
        "id": "ituCueXoGCGb"
      },
      "source": [
        "As we did above, if you want to extract the stats **for a particular categorical column**:"
      ]
    },
    {
      "cell_type": "code",
      "metadata": {
        "id": "X1n7IiT0GCGb"
      },
      "source": [
        "cat_stats = affordable.describe(include=['O'])\n",
        "print(\"Borough:\\n\", cat_stats['Borough'])"
      ],
      "execution_count": null,
      "outputs": []
    },
    {
      "cell_type": "markdown",
      "metadata": {
        "id": "b5YYzEe5GCGc"
      },
      "source": [
        "Here we can see that all rows specify the `Borough` (count is the same as the number of rows in the dataset, which is 5798 as we saw earlier). We can also observe that there are 5 boroughs (unique == 5) and that Brooklyn (marked by top) has most projects (2364).\n",
        "\n",
        "Let's look at another column:"
      ]
    },
    {
      "cell_type": "code",
      "metadata": {
        "id": "r2IL204PGCGc"
      },
      "source": [
        "cat_stats = affordable.describe(include=['O'])\n",
        "print(\"Statistics for Building Completion Date:\\n\", cat_stats['Building Completion Date'])"
      ],
      "execution_count": null,
      "outputs": []
    },
    {
      "cell_type": "markdown",
      "metadata": {
        "id": "9yeBgTcDGCGc"
      },
      "source": [
        "Here we also see that not all rows have an entry for `Building Completion Date` (count is less than number of rows in the dataset), we see that there are 1327 (marked as unique) different dates, the date with the most projects completed (`top`) is 06/20/2019, with 103 buildings completed on that day.\n",
        "\n",
        "Now we may wonder, what is the latest date for `Building Completion Date` in our dataset? To get the answer, first we convert the date (which is now a string) to a datetime format recognized by pandas, and then we can ask pandas for the latest (`max`) date:"
      ]
    },
    {
      "cell_type": "code",
      "metadata": {
        "id": "ioJTkoIgGCGd"
      },
      "source": [
        "affordable[\"Building Completion Date\"] = pd.to_datetime(affordable[\"Building Completion Date\"].apply(str))\n",
        "print(\"Latest date for Building Completion Date: \", affordable['Building Completion Date'].max())"
      ],
      "execution_count": null,
      "outputs": []
    },
    {
      "cell_type": "markdown",
      "metadata": {
        "id": "3LtJeCONGCGd"
      },
      "source": [
        "## CLEAN THE DATA  \n",
        "\n",
        "It is always a good idea to clean your data before you start working. The most common problem you will encouter is missing data. If some rows do not provide a value for a particular feature (column), you may encounter errors when you try to compute statistics or plot the data.   \n",
        "\n",
        "To check if there are any missing values by suming up the null values for each column:"
      ]
    },
    {
      "cell_type": "code",
      "metadata": {
        "id": "ykoeQMmiGCGe"
      },
      "source": [
        "print(\"Number of dataponts with null entry for each column:\\n\",affordable.isnull().sum())"
      ],
      "execution_count": null,
      "outputs": []
    },
    {
      "cell_type": "markdown",
      "metadata": {
        "id": "0l4I1U0dGCGe"
      },
      "source": [
        "Here we see that there are many columns that have issing values (non-zero)."
      ]
    },
    {
      "cell_type": "markdown",
      "metadata": {
        "id": "nnOU5YuZGCGf"
      },
      "source": [
        "To find out if there are same project names, we can use `value_counts()` on that column"
      ]
    },
    {
      "cell_type": "code",
      "metadata": {
        "id": "AlobDNE1GCGf"
      },
      "source": [
        "affordable['Project Name'].value_counts()"
      ],
      "execution_count": null,
      "outputs": []
    },
    {
      "cell_type": "markdown",
      "metadata": {
        "id": "DeecU7CMGCGg"
      },
      "source": [
        "Indeed, there are multiple records with the same project names, for example, there are 79 occurrences of \"JOE CENTRAL BROOKLYN LLC.YR15.FY19\" (without quotes) in column Project Name.\n",
        "\n",
        "So now, **let's clean the data** by removing the null values.  \n",
        "We can do that by replacing null values for our numerical columns with 0"
      ]
    },
    {
      "cell_type": "code",
      "metadata": {
        "id": "iBCgRvSqGCGg"
      },
      "source": [
        "affordable.fillna({'Building ID':0, 'Postcode':0,'BBL':0, 'BIN':0},inplace=True)\n",
        "affordable.fillna({'Council District':0},inplace=True)\n",
        "affordable.fillna({'Latitude':0, 'Longitude':0},inplace=True)\n",
        "affordable.fillna({'Latitude (Internal)':0, 'Longitude (Internal)':0},inplace=True)"
      ],
      "execution_count": null,
      "outputs": []
    },
    {
      "cell_type": "markdown",
      "metadata": {
        "id": "t9CnwwUpGCGg"
      },
      "source": [
        "And replace null values in our categorical data (string values) with the empty string:"
      ]
    },
    {
      "cell_type": "code",
      "metadata": {
        "id": "WDvaXt07GCGg"
      },
      "source": [
        "affordable.fillna({'Census Tract':\"\",'NTA - Neighborhood Tabulation Area':\"\"},inplace=True)"
      ],
      "execution_count": null,
      "outputs": []
    },
    {
      "cell_type": "markdown",
      "metadata": {
        "id": "uADqqTpcGCGh"
      },
      "source": [
        "Now we can check to make sure we got rid of all null values:"
      ]
    },
    {
      "cell_type": "code",
      "metadata": {
        "id": "POW8bSjQGCGh"
      },
      "source": [
        "print(affordable.isnull().sum())"
      ],
      "execution_count": null,
      "outputs": []
    },
    {
      "cell_type": "markdown",
      "metadata": {
        "id": "YVGorTdQGCGh"
      },
      "source": [
        "And voila', our data that are of **number** or **string** type are free of null values!!! Null values of **date/time** are not changed.  \n",
        "\n",
        "Another sensible thing to do, and it should always be considered, is whether our data should be anonymized for privacy protection. Also, when working with data, it is always important to think whether we really need for our analysis the data that could potentially identify idividual subjects, and if not, it is always a good idea to remove that data all toghether.  \n",
        "\n",
        "In this case the data comes from NYC Open data and it has already been anonymized somewhat, but if you think some data involves privacy or you do not need it, it is a good idea to remove those columns. In our examples, we would like to remove Latitude (Internal) and Longitude (Internal)."
      ]
    },
    {
      "cell_type": "code",
      "metadata": {
        "id": "fW_mcKhYGCGh"
      },
      "source": [
        "affordable.drop(['Latitude (Internal)'], axis=1, inplace=True)\n",
        "affordable.drop(['Longitude (Internal)'], axis=1, inplace=True)"
      ],
      "execution_count": null,
      "outputs": []
    },
    {
      "cell_type": "code",
      "metadata": {
        "id": "NmPfJgjVGCGh"
      },
      "source": [
        "print(\"Column Names:\\n\",affordable.head(0))"
      ],
      "execution_count": null,
      "outputs": []
    },
    {
      "cell_type": "markdown",
      "metadata": {
        "id": "TmkH9itCGCGi"
      },
      "source": [
        "And we can see that we no longer have columns that we won't be using!"
      ]
    },
    {
      "cell_type": "markdown",
      "metadata": {
        "id": "IuMKtZiJGCGi"
      },
      "source": [
        "## VISUALIZE THE DATA\n",
        "\n",
        "### Let's look at the data by borough:  \n",
        "\n",
        "To find out the names of the boroughs (we kind of know this already...):"
      ]
    },
    {
      "cell_type": "code",
      "metadata": {
        "id": "LwXwL06PGCGi"
      },
      "source": [
        "print(\"Unique Borough Names:\\n\", affordable.Borough.unique())"
      ],
      "execution_count": null,
      "outputs": []
    },
    {
      "cell_type": "markdown",
      "metadata": {
        "id": "oA2FPXoJGCGi"
      },
      "source": [
        "Let's group the data by borough (`Borough`)"
      ]
    },
    {
      "cell_type": "code",
      "metadata": {
        "id": "sVbNW8rEGCGj"
      },
      "source": [
        "boro_group = affordable.groupby(['Borough'])"
      ],
      "execution_count": null,
      "outputs": []
    },
    {
      "cell_type": "markdown",
      "metadata": {
        "id": "N7uqREU6GCGj"
      },
      "source": [
        "Now that the data is grouped by borough in boro_group, let's plot the data to observe the average 1-BR units per borough:"
      ]
    },
    {
      "cell_type": "code",
      "metadata": {
        "id": "2cro8tcYGCGj"
      },
      "source": [
        "boro_group['1-BR Units'].mean().plot.bar()"
      ],
      "execution_count": null,
      "outputs": []
    },
    {
      "cell_type": "markdown",
      "metadata": {
        "id": "7nSYtiK_GCGj"
      },
      "source": [
        "To save your plot in an image file you can do the following to leave more space at the bottom of the figure to fully visualize the names of the boroughs on the x axis, label the y axis, and then clear the figure so we can make more plots later:"
      ]
    },
    {
      "cell_type": "code",
      "metadata": {
        "id": "nNAJjq3BGCGj"
      },
      "source": [
        "#create more space for x-axis labels\n",
        "plt.gcf().subplots_adjust(bottom=0.25)\n",
        "plt.ylabel('Average 1-BR Units')\n",
        "#get the current figure\n",
        "fig = plt.gcf()\n",
        "#save figure to an image file\n",
        "fig.savefig('mean1BRUnits.png')\n",
        "\n",
        "#clear figure to generate next pyplot\n",
        "plt.clf()"
      ],
      "execution_count": null,
      "outputs": []
    },
    {
      "cell_type": "markdown",
      "metadata": {
        "id": "ybXN0GPyGCGk"
      },
      "source": [
        "\n",
        "Let's now plot the data to observe Reporting Construction Type by borough:"
      ]
    },
    {
      "cell_type": "code",
      "metadata": {
        "id": "7a28C4CEGCGk"
      },
      "source": [
        "#Generate the number of Preservation or New Construction with value_count()\n",
        "boro_group['Reporting Construction Type'].value_counts().plot.bar()"
      ],
      "execution_count": null,
      "outputs": []
    },
    {
      "cell_type": "markdown",
      "metadata": {
        "id": "6hUR4bx-GCGk"
      },
      "source": [
        "Let's save this plot to a file (we already adjusted the bottom of the fiugre, so we don't need to repeat that):"
      ]
    },
    {
      "cell_type": "code",
      "metadata": {
        "id": "o9Qi7rn6GCGk"
      },
      "source": [
        "#label the y-axis\n",
        "plt.ylabel('Number of Buildings')\n",
        "#get the current figure\n",
        "fig2 = plt.gcf()\n",
        "#save figure to an image file\n",
        "fig2.savefig('constructionTypeByBorough.png')\n",
        "\n",
        "#clear figure to generate next pyplot\n",
        "plt.clf()"
      ],
      "execution_count": null,
      "outputs": []
    },
    {
      "cell_type": "markdown",
      "metadata": {
        "id": "8vBtRK8PGCGl"
      },
      "source": [
        "Brooklyn has the most new construction.\n",
        "\n",
        "\n",
        "\n",
        "Let's look at the 1-BR Units Percentage by borough:"
      ]
    },
    {
      "cell_type": "code",
      "metadata": {
        "id": "AnnU250SGCGl"
      },
      "source": [
        "boro_group['Prevailing Wage Status'].value_counts().plot.bar()"
      ],
      "execution_count": null,
      "outputs": []
    },
    {
      "cell_type": "markdown",
      "metadata": {
        "id": "y_xd-wjQGCGl"
      },
      "source": [
        "Let's save this plot to a file:"
      ]
    },
    {
      "cell_type": "code",
      "metadata": {
        "id": "iGDTTIqmGCGl"
      },
      "source": [
        "#label the y-axis\n",
        "plt.ylabel('Number of Buildngs')\n",
        "#get the current figure\n",
        "fig2 = plt.gcf()\n",
        "#save figure to an image file\n",
        "fig2.savefig('boroughPrevailingWageStatus.png')\n",
        "\n",
        "#clear figure to generate next pyplot\n",
        "plt.clf()"
      ],
      "execution_count": null,
      "outputs": []
    },
    {
      "cell_type": "markdown",
      "metadata": {
        "id": "Nia-o549GCGm"
      },
      "source": [
        "We can observe all the data from each borough but some of them might be hard to see due to the large differences in the number of buildings in Brooklyn."
      ]
    },
    {
      "cell_type": "markdown",
      "metadata": {
        "id": "A5QGaQhDGCGn"
      },
      "source": [
        "Let's say I now want to look at data from Staten Island only (**note I am selecting rows here!!!**)"
      ]
    },
    {
      "cell_type": "code",
      "metadata": {
        "id": "drp1MXjl4Ta5"
      },
      "source": [
        "#Select only buildings in Staten Island\n",
        "st = affordable[affordable['Borough'].isin(['Staten Island'])]\n",
        "print(\"Number of buildings in Staten Island: \", len(st))"
      ],
      "execution_count": null,
      "outputs": []
    },
    {
      "cell_type": "markdown",
      "metadata": {
        "id": "XJdVpa9lNv3Z"
      },
      "source": [
        "I now have a new dataframe called st with only rows where borough == 'Staten Island\", and I can see that there are 255 buildings for Staten Island."
      ]
    },
    {
      "cell_type": "code",
      "metadata": {
        "id": "OgLE0OlFGCGn"
      },
      "source": [
        "#Graph data from only Staten Island\n",
        "st['Prevailing Wage Status'].value_counts().plot.bar()"
      ],
      "execution_count": null,
      "outputs": []
    },
    {
      "cell_type": "markdown",
      "metadata": {
        "id": "l_kbjLeBOnQN"
      },
      "source": [
        "Let's save this plot to a file:"
      ]
    },
    {
      "cell_type": "code",
      "metadata": {
        "id": "-FmQ1FK9GCGm"
      },
      "source": [
        "#label the y-axis\n",
        "plt.ylabel('Num of buildings in Staten Island')\n",
        "#get the current figure\n",
        "fig2 = plt.gcf()\n",
        "#save figure to an image file\n",
        "fig2.savefig('statenIslandPrevailingWageStatus.png')\n",
        "#clear figure to generate next pyplot\n",
        "plt.clf()"
      ],
      "execution_count": null,
      "outputs": []
    },
    {
      "cell_type": "markdown",
      "metadata": {
        "id": "uTix7f1bGCGn"
      },
      "source": [
        "\n",
        "\n",
        "### YOUR TURN!\n",
        "\n",
        "Now that you know how to explore the data, clean the data, obtain statistics about the data, visualize the data and select a subset of the data based on the value in a particular column (e.g. neighbourhood_group == 'Staten Island\"), think about how you want to explore the data for your analysis:    \n",
        "  1. As a group, think about an overall data-driven discussion of your borough and how it compares to the others.  \n",
        "  2. Individually, analyze the data in your neighborhood and compare to the data for the borough.\n",
        "  \n",
        "As you explore your data, keep in mind your observations and conclusions from HC2 and HC3 and see if you can make any connections, or if you find that the data supports those conclusions."
      ]
    },
    {
      "cell_type": "markdown",
      "metadata": {
        "id": "mDP_DCBEwtSD"
      },
      "source": [
        "---\n",
        "---\n",
        "---\n",
        "\n",
        "Feel the need to dig in more? Check this out!"
      ]
    },
    {
      "cell_type": "code",
      "metadata": {
        "id": "iwlCMaqbfjTL"
      },
      "source": [
        "park = affordable[affordable['Project Name'].str.lower().str.contains('park')]"
      ],
      "execution_count": null,
      "outputs": []
    },
    {
      "cell_type": "code",
      "metadata": {
        "id": "qkXqS1t-g5ka"
      },
      "source": [
        "park.head(5)"
      ],
      "execution_count": null,
      "outputs": []
    }
  ]
}